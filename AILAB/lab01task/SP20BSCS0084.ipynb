{
 "cells": [
  {
   "cell_type": "code",
   "execution_count": 5,
   "id": "39f60f3f",
   "metadata": {},
   "outputs": [],
   "source": [
    "def dicttask():\n",
    "  dictval = {}\n",
    "  for i in range(5):\n",
    "        print(\"--------------------\")\n",
    "        dictval[i] = {}\n",
    "        name = input(\"Enter the Name: \")\n",
    "        username = input(\"Enter the Username: \")\n",
    "        DegreeProgram = input(\"Enter the Degree Program: \")\n",
    "        Age = int(input(\"Enter the Age: \"))\n",
    "        Contact = int(input(\"Enter the contact: \"))\n",
    "        Percentage = int(input(\"Enter the Percentage: \"))\n",
    "        Gender = input(\"Enter the Gender: \")\n",
    "        ispassed = bool(input(\"Write True for yes , False \"))\n",
    "        dictval[i][\"Name\"] = name\n",
    "        dictval[i][\"Username\"] = username\n",
    "        dictval[i][\"DegreeProgram\"] = DegreeProgram\n",
    "        dictval[i][\"Age\"] = Age\n",
    "        dictval[i][\"Contact\"] = Contact\n",
    "        dictval[i][\"Percentage\"] = Percentage\n",
    "        dictval[i][\"Gender\"] = Gender\n",
    "        dictval[i][\"ispassed\"] = ispassed\n",
    "\n",
    "  with open(\"sp20bscs0084.txt\", 'w') as looping: \n",
    "    for key, value in dictval.items(): \n",
    "        looping.write('%s:%s,\\n' % (key, value))"
   ]
  },
  {
   "cell_type": "code",
   "execution_count": 6,
   "id": "26de932a",
   "metadata": {},
   "outputs": [
    {
     "name": "stdout",
     "output_type": "stream",
     "text": [
      "--------------------\n",
      "Enter the Name: mubbahsir\n",
      "Enter the Username: mubbashir shakeel\n",
      "Enter the Degree Program: bscs\n",
      "Enter the Age: 19\n",
      "Enter the contact: 0315218630\n",
      "Enter the Percentage: 75\n",
      "Enter the Gender: male\n",
      "Write True for yes , False true\n",
      "--------------------\n",
      "Enter the Name: Haris\n",
      "Enter the Username: Sohail\n",
      "Enter the Degree Program: bsse\n",
      "Enter the Age: 26\n",
      "Enter the contact: 032531566\n",
      "Enter the Percentage: 45\n",
      "Enter the Gender: male\n",
      "Write True for yes , False false\n",
      "--------------------\n",
      "Enter the Name: Anusha\n",
      "Enter the Username: Anusha \n",
      "Enter the Degree Program: bsse\n",
      "Enter the Age: 65\n",
      "Enter the contact: 03145645\n",
      "Enter the Percentage: 56\n",
      "Enter the Gender: female\n",
      "Write True for yes , False false\n",
      "--------------------\n",
      "Enter the Name: shahrukh\n",
      "Enter the Username: shahrukh sohail\n",
      "Enter the Degree Program: bscs\n",
      "Enter the Age: 36\n",
      "Enter the contact: 031325165\n",
      "Enter the Percentage: 58\n",
      "Enter the Gender: male\n",
      "Write True for yes , False true\n",
      "--------------------\n",
      "Enter the Name: talha\n",
      "Enter the Username: talha imran\n",
      "Enter the Degree Program: bsse\n",
      "Enter the Age: 63\n",
      "Enter the contact: 31561651\n",
      "Enter the Percentage: 85\n",
      "Enter the Gender: male\n",
      "Write True for yes , False false\n"
     ]
    }
   ],
   "source": [
    "dicttask()\n"
   ]
  },
  {
   "cell_type": "code",
   "execution_count": null,
   "id": "49a4d5d8",
   "metadata": {},
   "outputs": [],
   "source": []
  }
 ],
 "metadata": {
  "kernelspec": {
   "display_name": "Python 3 (ipykernel)",
   "language": "python",
   "name": "python3"
  },
  "language_info": {
   "codemirror_mode": {
    "name": "ipython",
    "version": 3
   },
   "file_extension": ".py",
   "mimetype": "text/x-python",
   "name": "python",
   "nbconvert_exporter": "python",
   "pygments_lexer": "ipython3",
   "version": "3.9.12"
  }
 },
 "nbformat": 4,
 "nbformat_minor": 5
}
